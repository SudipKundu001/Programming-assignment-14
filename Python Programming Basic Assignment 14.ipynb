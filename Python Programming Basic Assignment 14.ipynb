{
 "cells": [
  {
   "cell_type": "markdown",
   "id": "46bdcc06",
   "metadata": {},
   "source": [
    "## Python Programming Basic Assignment 14"
   ]
  },
  {
   "cell_type": "markdown",
   "id": "08f9cc92",
   "metadata": {},
   "source": [
    "**Question 1:Define a class with a generator which can iterate the numbers, which are divisible by\n",
    "7, between a given range 0 and n.**"
   ]
  },
  {
   "cell_type": "code",
   "execution_count": 1,
   "id": "3344e32b",
   "metadata": {},
   "outputs": [
    {
     "name": "stdout",
     "output_type": "stream",
     "text": [
      "0 7 14 21 28 35 42 49 56 63 70 77 84 91 98 105 112 119 126 133 140 147 154 161 168 175 182 189 196 203 210 217 224 231 238 245 252 259 266 273 280 287 294 301 308 315 322 329 336 343 350 "
     ]
    }
   ],
   "source": [
    "class div_generator:\n",
    "    def __init__(self,in_num):\n",
    "        self.in_num = in_num\n",
    "    def get_numbers(self):\n",
    "        for ele in range(0,self.in_num+1):\n",
    "            if ele%7 == 0:\n",
    "                yield ele\n",
    "                \n",
    "output = div_generator(350)\n",
    "for ele in output.get_numbers():\n",
    "    print(ele,end=' ')"
   ]
  },
  {
   "cell_type": "markdown",
   "id": "aeae4660",
   "metadata": {},
   "source": [
    "**Question 2:\n",
    "Write a program to compute the frequency of the words from the input. The output\n",
    "should output after sorting the key alphanumerically. \n",
    "Suppose the following input is supplied to the program:\n",
    "New to Python or choosing between Python 2 and Python 3? Read Python 2 or\n",
    "Python 3.**\n",
    "\n",
    "Then, the output should be:\n",
    "2:2\n",
    "3.:1\n",
    "3?:1\n",
    "New:1\n",
    "Python:5\n",
    "Read:1\n",
    "and:1\n",
    "between:1\n",
    "choosing:1\n",
    "or:2\n",
    "to:1"
   ]
  },
  {
   "cell_type": "code",
   "execution_count": 7,
   "id": "5dbc5013",
   "metadata": {},
   "outputs": [
    {
     "name": "stdout",
     "output_type": "stream",
     "text": [
      "Enter the Input String: New to Python or choosing between Python 2 and Python 3? Read Python 2 or Python 3\n",
      "2:2 3:1 3?:1 New:1 Python:5 Read:1 and:1 between:1 choosing:1 or:2 to:1 "
     ]
    }
   ],
   "source": [
    "def checkFrequency():\n",
    "    in_string = input(\"Enter the Input String: \")\n",
    "    frequency = {}\n",
    "    for ele in in_string.split(\" \"):\n",
    "        if(frequency.get(ele) == None):\n",
    "            frequency[ele] = 1\n",
    "        else:\n",
    "            frequency[ele] += 1 \n",
    "    for ele in sorted(frequency):\n",
    "        print(f'{ele}:{frequency[ele]}',end=\" \")\n",
    "checkFrequency()"
   ]
  },
  {
   "cell_type": "markdown",
   "id": "6650a297",
   "metadata": {},
   "source": [
    "**Question 3:\n",
    "Define a class Person and its two child classes: Male and Female. All classes have a\n",
    "method \"getGender\" which can print \"Male\" for Male class and \"Female\" for Female\n",
    "class.**\n"
   ]
  },
  {
   "cell_type": "code",
   "execution_count": 3,
   "id": "ba7a83b4",
   "metadata": {},
   "outputs": [
    {
     "name": "stdout",
     "output_type": "stream",
     "text": [
      "Male\n",
      "Female\n"
     ]
    }
   ],
   "source": [
    "class Person():\n",
    "    def getGender():\n",
    "        pass\n",
    "    \n",
    "class Male(Person):\n",
    "    def getGender():\n",
    "        print(\"Male\")\n",
    "        \n",
    "class Female(Person):\n",
    "    def getGender():\n",
    "        print(\"Female\")\n",
    "\n",
    "Male.getGender()\n",
    "Female.getGender()"
   ]
  },
  {
   "cell_type": "markdown",
   "id": "c2f1cccb",
   "metadata": {},
   "source": [
    "**Question 4:\n",
    "Please write a program to generate all sentences where subject is in [\"I\", \"You\"] and\n",
    "verb is in [\"Play\", \"Love\"] and the object is in [\"Hockey\",\"Football\"].**"
   ]
  },
  {
   "cell_type": "code",
   "execution_count": 4,
   "id": "be609823",
   "metadata": {},
   "outputs": [
    {
     "name": "stdout",
     "output_type": "stream",
     "text": [
      "I Play Hockey\n",
      "I Play Football\n",
      "I Love Hockey\n",
      "I Love Football\n",
      "You Play Hockey\n",
      "You Play Football\n",
      "You Love Hockey\n",
      "You Love Football\n"
     ]
    }
   ],
   "source": [
    "def generateSentences():\n",
    "    subject = ['I','You']\n",
    "    verb = ['Play','Love']\n",
    "    object = ['Hockey','Football']\n",
    "    for s in subject:\n",
    "        for v in verb:\n",
    "            for o in object:\n",
    "                print(f'{s} {v} {o}')\n",
    "                \n",
    "generateSentences()"
   ]
  },
  {
   "cell_type": "markdown",
   "id": "56b66823",
   "metadata": {},
   "source": [
    "**Question 5:\n",
    "Please write a program to compress and decompress the string \"hello world!hello\n",
    "world!hello world!hello world!\".**"
   ]
  },
  {
   "cell_type": "code",
   "execution_count": 5,
   "id": "5bff3044",
   "metadata": {},
   "outputs": [
    {
     "name": "stdout",
     "output_type": "stream",
     "text": [
      "hel2o world!hel2o world!hel2o world!hel2o world!\n",
      "hello world!hello world!hello world!hello world!\n"
     ]
    }
   ],
   "source": [
    "def compress(in_string):\n",
    "    output = in_string[0]\n",
    "    count = 1\n",
    "    for ele in range(len(in_string)-1):\n",
    "        if in_string[ele] == in_string[ele+1]:\n",
    "            count +=1\n",
    "        else:\n",
    "            if count > 1:\n",
    "                output += str(count)\n",
    "            output += in_string[ele+1]\n",
    "            count = 1\n",
    "    if count > 1:\n",
    "        output += str(count)            \n",
    "    print(output)\n",
    "\n",
    "\n",
    "def decompress(in_string):\n",
    "    output = ''\n",
    "    for ele in range(len(in_string)):\n",
    "        if in_string[ele].isdigit():\n",
    "            output += output[-1]*(int(in_string[ele])-1)\n",
    "        else:\n",
    "            output += in_string[ele]\n",
    "    print(output)\n",
    "    \n",
    "        \n",
    "compress(\"hello world!hello world!hello world!hello world!\")\n",
    "decompress(\"hel2o world!hel2o world!hel2o world!hel2o world!\")\n",
    "\n"
   ]
  },
  {
   "cell_type": "markdown",
   "id": "aa5b997e",
   "metadata": {},
   "source": [
    "**Question 6:\n",
    "Please write a binary search function which searches an item in a sorted list. The\n",
    "function should return the index of element to be searched in the list.**"
   ]
  },
  {
   "cell_type": "code",
   "execution_count": 6,
   "id": "332725c3",
   "metadata": {},
   "outputs": [
    {
     "name": "stdout",
     "output_type": "stream",
     "text": [
      "6\n",
      "Input Element not in the list\n"
     ]
    }
   ],
   "source": [
    "sorted_list = [1,2,3,4,5,6,7,8,9,10]\n",
    "def binary_search(in_list,in_num):\n",
    "    low = 0\n",
    "    high = len(in_list)-1\n",
    "    while low <= high:\n",
    "        mid = high+low//2\n",
    "        if in_list[mid] < in_num:\n",
    "            low = mid+1\n",
    "        elif in_list[mid] > in_num:\n",
    "            high = mid-1\n",
    "        else:\n",
    "            return mid\n",
    "    else:\n",
    "        return 'Input Element not in the list'\n",
    "    \n",
    "print(binary_search(sorted_list,7))\n",
    "print(binary_search(sorted_list,99))"
   ]
  },
  {
   "cell_type": "code",
   "execution_count": null,
   "id": "7d74a47f",
   "metadata": {},
   "outputs": [],
   "source": []
  }
 ],
 "metadata": {
  "kernelspec": {
   "display_name": "Python 3",
   "language": "python",
   "name": "python3"
  },
  "language_info": {
   "codemirror_mode": {
    "name": "ipython",
    "version": 3
   },
   "file_extension": ".py",
   "mimetype": "text/x-python",
   "name": "python",
   "nbconvert_exporter": "python",
   "pygments_lexer": "ipython3",
   "version": "3.8.8"
  }
 },
 "nbformat": 4,
 "nbformat_minor": 5
}
